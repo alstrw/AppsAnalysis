{
 "cells": [
  {
   "cell_type": "markdown",
   "metadata": {},
   "source": [
    "# Profitable App Profiles for the App Store and Google Play Markets\n",
    "\n",
    "### A guided project using dataquest.io\n",
    "\n",
    "**Alastair Wilkins - 4 March 2019**\n",
    "\n",
    "---\n",
    "\n",
    "The aim of this project is to understand what makes an app profitable in the online market and enable developers to make data-driven decisions when building apps.\n",
    "\n",
    "This analysis will focus on free apps that use advertising as their main revenue stream. The amount of users downloading and engaging with the app will therefore influence the amount of revenue earned. The goal of this project is to analyse data to help developers understand what kinds of apps are likely to attract more users."
   ]
  },
  {
   "cell_type": "markdown",
   "metadata": {},
   "source": [
    "## Exploring the data\n",
    "\n",
    "As of September 2018, there were approximately 2.1 million apps on the Google Play Store and approximately 2 million apps on the Apple App Store.\n",
    "\n",
    "Due to time and funding restrictions, access to all 4 million apps in a format that can be analysed is not available, therefore sample data has been used instead.\n",
    "\n",
    "The following two data sets have been used:\n",
    "\n",
    "- [A data set](https://www.kaggle.com/lava18/google-play-store-apps/home) containing data on approximately ten thousand Android apps from the Google Play Store. (Collected in August 2018).\n",
    "- [A data set](https://www.kaggle.com/ramamet4/app-store-apple-data-set-10k-apps/home) containing data on approximately seven thousand iOS apps from the Apple App Store. (Collected in July 2017).\n",
    "\n",
    "Firstly, let's open the data."
   ]
  },
  {
   "cell_type": "code",
   "execution_count": 1,
   "metadata": {
    "collapsed": true
   },
   "outputs": [],
   "source": [
    "from csv import reader\n",
    "\n",
    "# Google Play data\n",
    "opened_file = open('googleplaystore.csv')\n",
    "read_file = reader(opened_file)\n",
    "play_apps = list(read_file)\n",
    "play_header = play_apps[0]\n",
    "play_apps = play_apps[1:]\n",
    "\n",
    "# Apple App Store data\n",
    "opened_file = open('AppleStore.csv')\n",
    "read_file = reader(opened_file)\n",
    "ios_apps = list(read_file)\n",
    "ios_header = ios_apps[0]\n",
    "ios_apps = ios_apps[1:]"
   ]
  },
  {
   "cell_type": "markdown",
   "metadata": {},
   "source": [
    "A function has been created to allow for reusability when inspecting data points."
   ]
  },
  {
   "cell_type": "code",
   "execution_count": 2,
   "metadata": {
    "collapsed": true
   },
   "outputs": [],
   "source": [
    "def explore_data(dataset, start, end, rows_and_columns=False):\n",
    "    dataset_slice = dataset[start:end]    \n",
    "    for row in dataset_slice:\n",
    "        print(row)\n",
    "        print('\\n') # adds a new (empty) line after each row\n",
    "\n",
    "    if rows_and_columns:\n",
    "        print('Number of rows:', len(dataset))\n",
    "        print('Number of columns:', len(dataset[0]))"
   ]
  },
  {
   "cell_type": "markdown",
   "metadata": {},
   "source": [
    "Let's explore the headers and first two rows of each data set."
   ]
  },
  {
   "cell_type": "code",
   "execution_count": 3,
   "metadata": {},
   "outputs": [
    {
     "name": "stdout",
     "output_type": "stream",
     "text": [
      "App Store:\n",
      "\n",
      "['id', 'track_name', 'size_bytes', 'currency', 'price', 'rating_count_tot', 'rating_count_ver', 'user_rating', 'user_rating_ver', 'ver', 'cont_rating', 'prime_genre', 'sup_devices.num', 'ipadSc_urls.num', 'lang.num', 'vpp_lic']\n",
      "\n",
      "\n",
      "['389801252', 'Instagram', '113954816', 'USD', '0.0', '2161558', '1289', '4.5', '4.0', '10.23', '12+', 'Photo & Video', '37', '0', '29', '1']\n",
      "\n",
      "\n",
      "['529479190', 'Clash of Clans', '116476928', 'USD', '0.0', '2130805', '579', '4.5', '4.5', '9.24.12', '9+', 'Games', '38', '5', '18', '1']\n",
      "\n",
      "\n",
      "Number of rows: 7197\n",
      "Number of columns: 16\n",
      "\n",
      "\n",
      "Play Store:\n",
      "\n",
      "['App', 'Category', 'Rating', 'Reviews', 'Size', 'Installs', 'Type', 'Price', 'Content Rating', 'Genres', 'Last Updated', 'Current Ver', 'Android Ver']\n",
      "\n",
      "\n",
      "['Coloring book moana', 'ART_AND_DESIGN', '3.9', '967', '14M', '500,000+', 'Free', '0', 'Everyone', 'Art & Design;Pretend Play', 'January 15, 2018', '2.0.0', '4.0.3 and up']\n",
      "\n",
      "\n",
      "['U Launcher Lite – FREE Live Cool Themes, Hide Apps', 'ART_AND_DESIGN', '4.7', '87510', '8.7M', '5,000,000+', 'Free', '0', 'Everyone', 'Art & Design', 'August 1, 2018', '1.2.4', '4.0.3 and up']\n",
      "\n",
      "\n",
      "Number of rows: 10841\n",
      "Number of columns: 13\n"
     ]
    }
   ],
   "source": [
    "print('App Store:\\n')\n",
    "print(ios_header)\n",
    "print('\\n')\n",
    "explore_data(ios_apps, 1, 3, True)\n",
    "print('\\n')\n",
    "\n",
    "print('Play Store:\\n')\n",
    "print(play_header)\n",
    "print('\\n')\n",
    "explore_data(play_apps, 1, 3, True)"
   ]
  },
  {
   "cell_type": "markdown",
   "metadata": {},
   "source": [
    "We can immediately see that from the App Store set, there are 7,197 rows and 16 columns, compared to 10,841 rows and 13 columns in the Play Store set.\n",
    "\n",
    "The columns from the App Store that are likely to be of use in our analysis are:\n",
    "`track_name, currency, price, rating_count_tot, rating_count_ver, prime_genre`.\n",
    "\n",
    "Some of the column names for this data set are not immediately self-explanatory, but details of what each column represents can be found at the [documentation](https://www.kaggle.com/ramamet4/app-store-apple-data-set-10k-apps/home) for the data set. \n",
    "\n",
    "The columns from the Play Store that are likely to be of use in our analysis are: `App, Category, Rating, Reviews, Type, Price and Genres`."
   ]
  },
  {
   "cell_type": "markdown",
   "metadata": {},
   "source": [
    "## Cleaning the Data\n",
    "\n",
    "Before we can begin analysing, the data must be as accurate as possible and reflect our target audience of English-speaking, **free** app users.\n",
    "Non-English apps will need to be removed, along with paid apps and any duplicated or inaccurate data.\n",
    "\n",
    "The data set for the Google Play data has a dedicated [discussion section](https://www.kaggle.com/lava18/google-play-store-apps/discussion), where we can see one of the discussions describes an error for a certain row.\n",
    "\n",
    "The offending row is number `10473`. This is row `10472` in our data set, as the header row has been removed."
   ]
  },
  {
   "cell_type": "code",
   "execution_count": 4,
   "metadata": {},
   "outputs": [
    {
     "name": "stdout",
     "output_type": "stream",
     "text": [
      "['Life Made WI-Fi Touchscreen Photo Frame', '1.9', '19', '3.0M', '1,000+', 'Free', '0', 'Everyone', '', 'February 11, 2018', '1.0.19', '4.0 and up']\n"
     ]
    }
   ],
   "source": [
    "print(play_apps[10472])"
   ]
  },
  {
   "cell_type": "markdown",
   "metadata": {},
   "source": [
    "The third column in our Play Store set represents the rating of an app, as discussed above. In this example, the app has a rating of `19`, which must be an error, as apps on the Play Store cannot exceed a rating of `5`.\n",
    "\n",
    "Before it is removed, let's check to ensure there aren't any other apps falling foul of this rating rule:"
   ]
  },
  {
   "cell_type": "code",
   "execution_count": 5,
   "metadata": {
    "scrolled": true
   },
   "outputs": [
    {
     "name": "stdout",
     "output_type": "stream",
     "text": [
      "['Life Made WI-Fi Touchscreen Photo Frame', '1.9', '19', '3.0M', '1,000+', 'Free', '0', 'Everyone', '', 'February 11, 2018', '1.0.19', '4.0 and up']\n"
     ]
    }
   ],
   "source": [
    "for app in play_apps:\n",
    "    if float(app[2]) > 5:\n",
    "        print(app)"
   ]
  },
  {
   "cell_type": "markdown",
   "metadata": {},
   "source": [
    "The above code has confirmed the app we knew about is the only instance where this rule has been broken.\n",
    "\n",
    "Let's delete this from our data set."
   ]
  },
  {
   "cell_type": "code",
   "execution_count": 6,
   "metadata": {
    "collapsed": true
   },
   "outputs": [],
   "source": [
    "del play_apps[10472]\n",
    "# This has been commented out to avoid running it more than once."
   ]
  },
  {
   "cell_type": "markdown",
   "metadata": {},
   "source": [
    "The [discussions]() section of the Google Play data set hints that there are many duplicate values in this data set.\n",
    "\n",
    "The data must be cleansed of these duplicates.\n",
    "For example, Facebook has multiple entries."
   ]
  },
  {
   "cell_type": "code",
   "execution_count": 7,
   "metadata": {},
   "outputs": [
    {
     "name": "stdout",
     "output_type": "stream",
     "text": [
      "['Facebook', 'SOCIAL', '4.1', '78158306', 'Varies with device', '1,000,000,000+', 'Free', '0', 'Teen', 'Social', 'August 3, 2018', 'Varies with device', 'Varies with device']\n",
      "['Facebook', 'SOCIAL', '4.1', '78128208', 'Varies with device', '1,000,000,000+', 'Free', '0', 'Teen', 'Social', 'August 3, 2018', 'Varies with device', 'Varies with device']\n"
     ]
    }
   ],
   "source": [
    "for app in play_apps:\n",
    "    if app[0] == \"Facebook\":\n",
    "        print(app)"
   ]
  },
  {
   "cell_type": "markdown",
   "metadata": {},
   "source": [
    "A criterion must be chosen in order to pick which one of the duplicates stays.\n",
    "The fourth column in the data set represents the amount of reviews that have been left on the app. The item with the highest amount of reviews must be the most recent data, therefore that is the row that will be kept. \n",
    "\n",
    "Let's work out how many duplicates we need to deal with."
   ]
  },
  {
   "cell_type": "code",
   "execution_count": 8,
   "metadata": {},
   "outputs": [
    {
     "name": "stdout",
     "output_type": "stream",
     "text": [
      "Quantity of duplicate apps: 1181\n",
      "\n",
      "\n",
      "10 duplicates from end of list:  ['Garena Free Fire', 'osmino Wi-Fi: free WiFi', 'Fun Kid Racing - Motocross', 'Podcast App: Free & Offline Podcasts by Player FM', 'Motorola FM Radio', 'FarmersOnly Dating', 'Firefox Focus: The privacy browser', 'FP Notebook', 'Slickdeals: Coupons & Shopping', 'AAFP']\n"
     ]
    }
   ],
   "source": [
    "duplicates = []\n",
    "unique = []\n",
    "\n",
    "for app in play_apps:\n",
    "    name = app[0]\n",
    "    if name in unique:\n",
    "        duplicates.append(name)\n",
    "    else:\n",
    "        unique.append(name)\n",
    "        \n",
    "print('Quantity of duplicate apps: ' + str(len(duplicates)))\n",
    "print('\\n')\n",
    "print('10 duplicates from end of list: ', duplicates[-10:])"
   ]
  },
  {
   "cell_type": "markdown",
   "metadata": {},
   "source": [
    "The duplicates must now be removed from the data set.\n",
    "The data set contains 10,840 apps, therefore the expectation is that after removing the duplicates (10,840 - 1181) for there to be 9,659 apps, which will be confirmed below.\n",
    "\n",
    "The code below runs the following algorithm:\n",
    "\n",
    "- Create an empty dictionary `reviews_max` and two empty lists, `play_apps_clean` and `play_apps_existing`\n",
    "- Iterate through all apps in the play store data set\n",
    "    - Assign the name of the app to a variable\n",
    "    - Assign the number of reviews to a variable\n",
    "    - Check whether the app exists in our `reviews_max` dictionary. We will be using this dictionary to store the highest value of reviews for each app.\n",
    "    - If the app exists in our dictionary, check whether the current iteration value of reviews is greater than what is in our dictionary.\n",
    "    - If both conditions above are met, the dictionary is overwritten with the current iteration value, as it must be higher.\n",
    "    - If the current iteration app is not in the dictionary, we will simply add it, with a value of the current iteration reviews.\n",
    "    \n",
    "Next, we must create a new data set that strips out the duplicates.\n",
    "\n",
    "- Using the two empty lists we created above, `play_apps_clean` and `play_apps_existing` we can:\n",
    "    - Loop through all apps in the play store data set\n",
    "    - Assign name and number of reviews to variables\n",
    "    - Check whether the current iteration amount of reviews matches what we have stored in the dictionary for the highest reviews.\n",
    "    - Also check we haven't already dealt with this app\n",
    "    - If both conditions are met, we will add this app to our clean data set.\n",
    "    - Any future iterations that have the same name will be ignored.\n",
    "    \n",
    "Lastly, the amount of apps in the data set is checked to confirm that the list of cleaned apps is what we would expect. "
   ]
  },
  {
   "cell_type": "code",
   "execution_count": 9,
   "metadata": {},
   "outputs": [
    {
     "name": "stdout",
     "output_type": "stream",
     "text": [
      "Number of unique apps: 9659\n"
     ]
    }
   ],
   "source": [
    "reviews_max = {}\n",
    "play_apps_clean = []\n",
    "play_apps_existing = []\n",
    "\n",
    "for app in play_apps:\n",
    "    name = app[0]\n",
    "    reviews = float(app[3])\n",
    "    \n",
    "    if (name in reviews_max) and (reviews_max[name] < reviews):\n",
    "        reviews_max[name] = reviews #Overwrite with higher value\n",
    "    elif name not in reviews_max:\n",
    "        reviews_max[name] = reviews\n",
    "        \n",
    "for app in play_apps:\n",
    "    name = app[0]\n",
    "    reviews = float(app[3])\n",
    "    \n",
    "    if (reviews == reviews_max[name]) and (name not in play_apps_existing):\n",
    "        play_apps_clean.append(app)\n",
    "        play_apps_existing.append(name)\n",
    "        \n",
    "print('Number of unique apps: ' + str(len(play_apps_clean)))"
   ]
  },
  {
   "cell_type": "markdown",
   "metadata": {},
   "source": [
    "## Removing non-English apps\n",
    "\n",
    "Now the duplicates have been dealt with, we need to cater for our audience - English speaking users.\n",
    "\n",
    "After exploring the data, there are apps contained within that have names suggesting they are directed towards a non-English speaking audience."
   ]
  },
  {
   "cell_type": "code",
   "execution_count": 10,
   "metadata": {},
   "outputs": [
    {
     "name": "stdout",
     "output_type": "stream",
     "text": [
      "- 爱奇艺PPS -《欢乐颂2》电视剧热播\n",
      "- 【脱出ゲーム】絶対に最後までプレイしないで 〜謎解き＆ブロックパズル〜\n",
      "\n",
      "\n",
      "- 中国語 AQリスニング\n",
      "- لعبة تقدر تربح DZ\n"
     ]
    }
   ],
   "source": [
    "print('- ' + ios_apps[813][1])\n",
    "print('- ' + ios_apps[6731][1])\n",
    "print('\\n')\n",
    "print('- ' + play_apps_clean[4412][0])\n",
    "print('- ' + play_apps_clean[7940][0])"
   ]
  },
  {
   "cell_type": "markdown",
   "metadata": {},
   "source": [
    "These apps do not suit our audience, therefore we will remove them from the data set.\n",
    "\n",
    "One approach could be to remove each app which has symbols not commonly found in the English language.\n",
    "Therefore anything that isn't in the English alphabet, has letters from 0-9 and standard symbols (e.g. + - / ) will be removed.\n",
    "\n",
    "Each character in a string has an associated value, which we can obtain by using the `ord()` function that is [built-in to Python](https://docs.python.org/3/library/functions.html#ord). The `ord()` function returns the unicode-value of the character."
   ]
  },
  {
   "cell_type": "code",
   "execution_count": 11,
   "metadata": {},
   "outputs": [
    {
     "name": "stdout",
     "output_type": "stream",
     "text": [
      "97\n",
      "65\n",
      "122\n",
      "56\n",
      "61\n",
      "40857\n"
     ]
    }
   ],
   "source": [
    "print(ord('a'))\n",
    "print(ord('A'))\n",
    "print(ord('z'))\n",
    "print(ord('8'))\n",
    "print(ord('='))\n",
    "print(ord('龙'))"
   ]
  },
  {
   "cell_type": "markdown",
   "metadata": {},
   "source": [
    "According to ASCII, the values for characters that are commonly used in English text are in the range 0 to 127.\n",
    "Based on this rule, we can start to filter out our data to only contain relevant apps."
   ]
  },
  {
   "cell_type": "code",
   "execution_count": 12,
   "metadata": {},
   "outputs": [
    {
     "name": "stdout",
     "output_type": "stream",
     "text": [
      "True\n",
      "False\n",
      "True\n",
      "False\n"
     ]
    }
   ],
   "source": [
    "def checkEnglishChars(string):\n",
    "    for char in string:\n",
    "        if ord(char) > 127:\n",
    "            return False\n",
    "        \n",
    "    return True\n",
    "\n",
    "# Testing data:\n",
    "print(checkEnglishChars('Instagram')) # Should return true\n",
    "print(checkEnglishChars('爱奇艺PPS -《欢乐颂2》电视剧热播')) # Should return false\n",
    "print(checkEnglishChars('Xero')) # Should return true\n",
    "print(checkEnglishChars('Instachat 😜')) # Should return true"
   ]
  },
  {
   "cell_type": "markdown",
   "metadata": {},
   "source": [
    "The test seemes to have worked, except for one entry, the last one.\n",
    "Emoji characters are outside of our 0-127 range and as a result, the function determines it to be a non-english set of characters. \n",
    "\n",
    "As Emoji characters are becoming increasingly common in app names, it would reduce the accuracy of our findings if we were to exclude these apps from the data set.\n",
    "\n",
    "Extra rules must be put in place to ensure we try to minimalise errors like this.\n",
    "\n",
    "Rather than exclude an app immediately, we will check to see if there are 4 or more non-English characters in the name and exclude them instead.\n",
    "Unfortunately, the filter is not perfect, but should be more effective than above."
   ]
  },
  {
   "cell_type": "code",
   "execution_count": 13,
   "metadata": {},
   "outputs": [
    {
     "name": "stdout",
     "output_type": "stream",
     "text": [
      "True\n",
      "True\n",
      "False\n"
     ]
    }
   ],
   "source": [
    "def checkEnglishChars(string):\n",
    "    count = 0\n",
    "    for char in string:\n",
    "        if ord(char) > 127:\n",
    "            count += 1\n",
    "        \n",
    "    if count >= 4:\n",
    "        return False\n",
    "    \n",
    "    return True\n",
    "\n",
    "# Testing the new rule of 4 or more characters.\n",
    "print(checkEnglishChars('Docs To Go™ Free Office Suite')) # Should return true\n",
    "print(checkEnglishChars('Instachat 😜')) # Should return true\n",
    "print(checkEnglishChars('爱奇艺PPS -《欢乐颂2》电视剧热播')) # Should return false"
   ]
  },
  {
   "cell_type": "markdown",
   "metadata": {},
   "source": [
    "Now we will create new lists of apps for both Google Play Store and Apple App Store that only include English-audience apps."
   ]
  },
  {
   "cell_type": "code",
   "execution_count": 14,
   "metadata": {},
   "outputs": [
    {
     "name": "stdout",
     "output_type": "stream",
     "text": [
      "['Name Art Photo Editor - Focus n Filters', 'ART_AND_DESIGN', '4.4', '8788', '12M', '1,000,000+', 'Free', '0', 'Everyone', 'Art & Design', 'July 31, 2018', '1.0.15', '4.0 and up']\n",
      "\n",
      "\n",
      "['Tattoo Name On My Photo Editor', 'ART_AND_DESIGN', '4.2', '44829', '20M', '10,000,000+', 'Free', '0', 'Teen', 'Art & Design', 'April 2, 2018', '3.8', '4.1 and up']\n",
      "\n",
      "\n",
      "Number of rows: 9614\n",
      "Number of columns: 13\n",
      "\n",
      "\n",
      "['700970012', 'Panda Pop', '263766016', 'USD', '0.0', '41214', '88', '4.5', '4.5', '5.5.101', '4+', 'Games', '40', '5', '1', '1']\n",
      "\n",
      "\n",
      "['520777858', 'The Sandbox - Building & Crafting a Pixel World!', '171482112', 'USD', '0.0', '41108', '258', '4.5', '4.5', '2.0', '4+', 'Games', '38', '5', '45', '1']\n",
      "\n",
      "\n",
      "Number of rows: 6183\n",
      "Number of columns: 16\n"
     ]
    }
   ],
   "source": [
    "english_play_apps = []\n",
    "english_ios_apps = []\n",
    "\n",
    "for app in play_apps_clean:\n",
    "    name = app[0]\n",
    "    if (checkEnglishChars(name) == True):\n",
    "        english_play_apps.append(app)\n",
    "        # Only append the ones that pass the English test.\n",
    "        # Do nothing with apps that fail.\n",
    "        \n",
    "for app in ios_apps:\n",
    "    name = app[1]\n",
    "    if (checkEnglishChars(name) == True):\n",
    "        english_ios_apps.append(app)\n",
    "\n",
    "explore_data(english_play_apps, 10, 12, True) # Pick out some random apps to showcase\n",
    "print('\\n')\n",
    "explore_data(english_ios_apps, 400, 402, True)"
   ]
  },
  {
   "cell_type": "markdown",
   "metadata": {},
   "source": [
    "We have now narrowed down our data sets even further, to 9,614 rows (Play Store) and 6,183 rows (App Store).\n",
    "\n",
    "The final stage of the process will be to extract only the **free** apps within the remaining lists."
   ]
  },
  {
   "cell_type": "code",
   "execution_count": 24,
   "metadata": {},
   "outputs": [
    {
     "name": "stdout",
     "output_type": "stream",
     "text": [
      "['Photo Editor & Candy Camera & Grid & ScrapBook', 'ART_AND_DESIGN', '4.1', '159', '19M', '10,000+', 'Free', '0', 'Everyone', 'Art & Design', 'January 7, 2018', '1.0.0', '4.0.3 and up']\n",
      "\n",
      "\n",
      "['U Launcher Lite – FREE Live Cool Themes, Hide Apps', 'ART_AND_DESIGN', '4.7', '87510', '8.7M', '5,000,000+', 'Free', '0', 'Everyone', 'Art & Design', 'August 1, 2018', '1.2.4', '4.0.3 and up']\n",
      "\n",
      "\n",
      "Number of rows: 8864\n",
      "Number of columns: 13\n",
      "\n",
      "\n",
      "['284882215', 'Facebook', '389879808', 'USD', '0.0', '2974676', '212', '3.5', '3.5', '95.0', '4+', 'Social Networking', '37', '1', '29', '1']\n",
      "\n",
      "\n",
      "['389801252', 'Instagram', '113954816', 'USD', '0.0', '2161558', '1289', '4.5', '4.0', '10.23', '12+', 'Photo & Video', '37', '0', '29', '1']\n",
      "\n",
      "\n",
      "Number of rows: 3222\n",
      "Number of columns: 16\n"
     ]
    }
   ],
   "source": [
    "play_store_final = []\n",
    "ios_final = []\n",
    "\n",
    "# Play store - Price = 7\n",
    "for app in english_play_apps:\n",
    "    if app[7] == \"0\":\n",
    "        play_store_final.append(app)\n",
    "        \n",
    "# App store - Price = 4\n",
    "for app in english_ios_apps:\n",
    "    if app[4] == \"0.0\":\n",
    "        ios_final.append(app)\n",
    "\n",
    "explore_data(play_store_final, 0, 2, True)\n",
    "print('\\n')\n",
    "explore_data(ios_final, 0, 2, True)"
   ]
  },
  {
   "cell_type": "markdown",
   "metadata": {},
   "source": [
    "We are now down to the final data sets, with 8,864 apps left from Play Store and 3,222 left from App Store.\n",
    "This totals circa 12k apps, which should be enough for our data analysis.\n",
    "\n",
    "## Analysis\n",
    "\n",
    "As mentioned in the intro, the aim is to determine which apps are likely to attract more users, because the target for free apps utilising advertising for revenue is to gain as wide of a reach as possible, to in turn promote more clicks and engagements with the adverts.\n",
    "\n",
    "Most successful apps are published to both the iOS App Store and Google Play store markets, to allow a wide range of users to download the app. Therefore we will need to find app profiles that are successful in both markets.\n",
    "\n",
    "To begin with, we'll use some basic frequency tables to get an idea of genre spread in the data sets."
   ]
  },
  {
   "cell_type": "code",
   "execution_count": 34,
   "metadata": {},
   "outputs": [],
   "source": [
    "def display_table(dataset, index):\n",
    "    table = freq_table(dataset, index)\n",
    "    table_display = []\n",
    "    for key in table:\n",
    "        key_val_as_tuple = (table[key], key)\n",
    "        table_display.append(key_val_as_tuple)\n",
    "\n",
    "    table_sorted = sorted(table_display, reverse = True)\n",
    "    for entry in table_sorted:\n",
    "        print(entry[1], ':', entry[0])\n",
    "\n",
    "def freq_table(dataset, index):\n",
    "    table = {}\n",
    "    table_percentages = {}\n",
    "    count = 0\n",
    "    \n",
    "    for app in dataset:\n",
    "        count += 1\n",
    "        \n",
    "        if app[index] not in table:\n",
    "            table[app[index]] = 1\n",
    "        else:\n",
    "            table[app[index]] += 1\n",
    "            \n",
    "    for key in table:\n",
    "        percentage = round((table[key] / count) * 100, 2)\n",
    "        table_percentages[key] = percentage\n",
    "        \n",
    "    return table_percentages  "
   ]
  },
  {
   "cell_type": "markdown",
   "metadata": {},
   "source": [
    "## Most Common Apps by Genre\n",
    "Let's begin by analysing the `prime_genre` column from the App Store data set:"
   ]
  },
  {
   "cell_type": "code",
   "execution_count": 35,
   "metadata": {},
   "outputs": [
    {
     "name": "stdout",
     "output_type": "stream",
     "text": [
      "Games : 58.16\n",
      "Entertainment : 7.88\n",
      "Photo & Video : 4.97\n",
      "Education : 3.66\n",
      "Social Networking : 3.29\n",
      "Shopping : 2.61\n",
      "Utilities : 2.51\n",
      "Sports : 2.14\n",
      "Music : 2.05\n",
      "Health & Fitness : 2.02\n",
      "Productivity : 1.74\n",
      "Lifestyle : 1.58\n",
      "News : 1.33\n",
      "Travel : 1.24\n",
      "Finance : 1.12\n",
      "Weather : 0.87\n",
      "Food & Drink : 0.81\n",
      "Reference : 0.56\n",
      "Business : 0.53\n",
      "Book : 0.43\n",
      "Navigation : 0.19\n",
      "Medical : 0.19\n",
      "Catalogs : 0.12\n"
     ]
    }
   ],
   "source": [
    "display_table(ios_final, 11)"
   ]
  },
  {
   "cell_type": "markdown",
   "metadata": {},
   "source": [
    "From these results, over half the population of the apps in our data set (58.16%) are games.\n",
    "The next largest set is Entertainment apps, followed by Photo & Video apps, Education and Social Networking.\n",
    "\n",
    "The results show that the english-only apps in our market sample are dominated by apps designed for fun, e.g. gameing, entertainment and social networking, whereas apps designed for productivity and practical purposes (e.g. navigation, finance, news and productivity) are more rare.\n",
    "\n",
    "It is important to note however that whilst the frequency of fun apps dominates the market, this does not necessarily reflect they have the most users. There may be more supply than demand.\n",
    "\n",
    "Next we'll take a look at the `Genres` and `Category` columns of the Play Store data set:"
   ]
  },
  {
   "cell_type": "code",
   "execution_count": 36,
   "metadata": {},
   "outputs": [
    {
     "name": "stdout",
     "output_type": "stream",
     "text": [
      "Tools : 8.45\n",
      "Entertainment : 6.07\n",
      "Education : 5.35\n",
      "Business : 4.59\n",
      "Productivity : 3.89\n",
      "Lifestyle : 3.89\n",
      "Finance : 3.7\n",
      "Medical : 3.53\n",
      "Sports : 3.46\n",
      "Personalization : 3.32\n",
      "Communication : 3.24\n",
      "Action : 3.1\n",
      "Health & Fitness : 3.08\n",
      "Photography : 2.94\n",
      "News & Magazines : 2.8\n",
      "Social : 2.66\n",
      "Travel & Local : 2.32\n",
      "Shopping : 2.25\n",
      "Books & Reference : 2.14\n",
      "Simulation : 2.04\n",
      "Dating : 1.86\n",
      "Arcade : 1.85\n",
      "Video Players & Editors : 1.77\n",
      "Casual : 1.76\n",
      "Maps & Navigation : 1.4\n",
      "Food & Drink : 1.24\n",
      "Puzzle : 1.13\n",
      "Racing : 0.99\n",
      "Role Playing : 0.94\n",
      "Libraries & Demo : 0.94\n",
      "Auto & Vehicles : 0.93\n",
      "Strategy : 0.91\n",
      "House & Home : 0.82\n",
      "Weather : 0.8\n",
      "Events : 0.71\n",
      "Adventure : 0.68\n",
      "Comics : 0.61\n",
      "Beauty : 0.6\n",
      "Art & Design : 0.6\n",
      "Parenting : 0.5\n",
      "Card : 0.45\n",
      "Casino : 0.43\n",
      "Trivia : 0.42\n",
      "Educational;Education : 0.39\n",
      "Board : 0.38\n",
      "Educational : 0.37\n",
      "Education;Education : 0.34\n",
      "Word : 0.26\n",
      "Casual;Pretend Play : 0.24\n",
      "Music : 0.2\n",
      "Racing;Action & Adventure : 0.17\n",
      "Puzzle;Brain Games : 0.17\n",
      "Entertainment;Music & Video : 0.17\n",
      "Casual;Brain Games : 0.14\n",
      "Casual;Action & Adventure : 0.14\n",
      "Arcade;Action & Adventure : 0.12\n",
      "Action;Action & Adventure : 0.1\n",
      "Educational;Pretend Play : 0.09\n",
      "Simulation;Action & Adventure : 0.08\n",
      "Parenting;Education : 0.08\n",
      "Entertainment;Brain Games : 0.08\n",
      "Board;Brain Games : 0.08\n",
      "Parenting;Music & Video : 0.07\n",
      "Educational;Brain Games : 0.07\n",
      "Casual;Creativity : 0.07\n",
      "Art & Design;Creativity : 0.07\n",
      "Education;Pretend Play : 0.06\n",
      "Role Playing;Pretend Play : 0.05\n",
      "Education;Creativity : 0.05\n",
      "Role Playing;Action & Adventure : 0.03\n",
      "Puzzle;Action & Adventure : 0.03\n",
      "Entertainment;Creativity : 0.03\n",
      "Entertainment;Action & Adventure : 0.03\n",
      "Educational;Creativity : 0.03\n",
      "Educational;Action & Adventure : 0.03\n",
      "Education;Music & Video : 0.03\n",
      "Education;Brain Games : 0.03\n",
      "Education;Action & Adventure : 0.03\n",
      "Adventure;Action & Adventure : 0.03\n",
      "Video Players & Editors;Music & Video : 0.02\n",
      "Sports;Action & Adventure : 0.02\n",
      "Simulation;Pretend Play : 0.02\n",
      "Puzzle;Creativity : 0.02\n",
      "Music;Music & Video : 0.02\n",
      "Entertainment;Pretend Play : 0.02\n",
      "Casual;Education : 0.02\n",
      "Board;Action & Adventure : 0.02\n",
      "Video Players & Editors;Creativity : 0.01\n",
      "Trivia;Education : 0.01\n",
      "Travel & Local;Action & Adventure : 0.01\n",
      "Tools;Education : 0.01\n",
      "Strategy;Education : 0.01\n",
      "Strategy;Creativity : 0.01\n",
      "Strategy;Action & Adventure : 0.01\n",
      "Simulation;Education : 0.01\n",
      "Role Playing;Brain Games : 0.01\n",
      "Racing;Pretend Play : 0.01\n",
      "Puzzle;Education : 0.01\n",
      "Parenting;Brain Games : 0.01\n",
      "Music & Audio;Music & Video : 0.01\n",
      "Lifestyle;Pretend Play : 0.01\n",
      "Lifestyle;Education : 0.01\n",
      "Health & Fitness;Education : 0.01\n",
      "Health & Fitness;Action & Adventure : 0.01\n",
      "Entertainment;Education : 0.01\n",
      "Communication;Creativity : 0.01\n",
      "Comics;Creativity : 0.01\n",
      "Casual;Music & Video : 0.01\n",
      "Card;Action & Adventure : 0.01\n",
      "Books & Reference;Education : 0.01\n",
      "Art & Design;Pretend Play : 0.01\n",
      "Art & Design;Action & Adventure : 0.01\n",
      "Arcade;Pretend Play : 0.01\n",
      "Adventure;Education : 0.01\n"
     ]
    }
   ],
   "source": [
    "display_table(play_store_final, 9)"
   ]
  },
  {
   "cell_type": "markdown",
   "metadata": {},
   "source": [
    "From these results, we can see that unlike the iOS App Store, the more dominant types of app in the Play Store comes under practical apps, for example Tools at 8.45% of the set, Education at 5.35%, Business at 4.59% and more (productivity, lifestyle and finance).\n",
    "\n",
    "It is important to recognise however, that apps in the Play Store can have more than one category, which in turn creates many categories to analyse and is a more granular set of data.\n",
    "\n",
    "Instead, it may be better to look at the `Category` column from the Play Store data:"
   ]
  },
  {
   "cell_type": "code",
   "execution_count": 37,
   "metadata": {},
   "outputs": [
    {
     "name": "stdout",
     "output_type": "stream",
     "text": [
      "FAMILY : 18.91\n",
      "GAME : 9.72\n",
      "TOOLS : 8.46\n",
      "BUSINESS : 4.59\n",
      "LIFESTYLE : 3.9\n",
      "PRODUCTIVITY : 3.89\n",
      "FINANCE : 3.7\n",
      "MEDICAL : 3.53\n",
      "SPORTS : 3.4\n",
      "PERSONALIZATION : 3.32\n",
      "COMMUNICATION : 3.24\n",
      "HEALTH_AND_FITNESS : 3.08\n",
      "PHOTOGRAPHY : 2.94\n",
      "NEWS_AND_MAGAZINES : 2.8\n",
      "SOCIAL : 2.66\n",
      "TRAVEL_AND_LOCAL : 2.34\n",
      "SHOPPING : 2.25\n",
      "BOOKS_AND_REFERENCE : 2.14\n",
      "DATING : 1.86\n",
      "VIDEO_PLAYERS : 1.79\n",
      "MAPS_AND_NAVIGATION : 1.4\n",
      "FOOD_AND_DRINK : 1.24\n",
      "EDUCATION : 1.16\n",
      "ENTERTAINMENT : 0.96\n",
      "LIBRARIES_AND_DEMO : 0.94\n",
      "AUTO_AND_VEHICLES : 0.93\n",
      "HOUSE_AND_HOME : 0.82\n",
      "WEATHER : 0.8\n",
      "EVENTS : 0.71\n",
      "PARENTING : 0.65\n",
      "ART_AND_DESIGN : 0.64\n",
      "COMICS : 0.62\n",
      "BEAUTY : 0.6\n"
     ]
    }
   ],
   "source": [
    "display_table(play_store_final, 1)"
   ]
  },
  {
   "cell_type": "markdown",
   "metadata": {},
   "source": [
    "The `Category` column is more descriptive, as the apps can only have one category assigned.\n",
    "\n",
    "From this data, we see that similar to the iOS App Store, the fun apps are more dominant of the population, for example Family at 18.9% and Game at 9.7%.\n",
    "\n",
    "However, it is worth noting that there are significant differences in the amount of productivity and practical apps in the Play Store, when compared to the App Store. \n",
    "Tools, Business, Lifestyle and Productivity are all among the top categories that are in the data set.\n",
    "\n",
    "At this stage, we have found that the App Store is dominated by more apps for fun purposes, whereas the Play Store seems to have more of a balance between apps for fun and apps with practical uses.\n",
    "\n",
    "The next stage will be to assess which kinds of apps yield the most users."
   ]
  },
  {
   "cell_type": "markdown",
   "metadata": {},
   "source": [
    "## Most Popular Apps by Genre - App Store (iOS)\n",
    "\n",
    "Unfortunately, our data set on the app store does not contain anything directly attributable to the amount of installs an app has had.\n",
    "\n",
    "We will have to use the total user ratings count in place of this data, to get a rough idea. This will be pulled from the `rating_count_tot` column."
   ]
  },
  {
   "cell_type": "code",
   "execution_count": 51,
   "metadata": {},
   "outputs": [
    {
     "name": "stdout",
     "output_type": "stream",
     "text": [
      "Photo & Video :  28441.54375\n",
      "Navigation :  86090.33333333333\n",
      "Food & Drink :  33333.92307692308\n",
      "Reference :  74942.11111111111\n",
      "Productivity :  21028.410714285714\n",
      "Sports :  23008.898550724636\n",
      "Travel :  28243.8\n",
      "Entertainment :  14029.830708661417\n",
      "News :  21248.023255813954\n",
      "Shopping :  26919.690476190477\n",
      "Catalogs :  4004.0\n",
      "Business :  7491.117647058823\n",
      "Finance :  31467.944444444445\n",
      "Music :  57326.530303030304\n",
      "Games :  22788.6696905016\n",
      "Social Networking :  71548.34905660378\n",
      "Book :  39758.5\n",
      "Medical :  612.0\n",
      "Health & Fitness :  23298.015384615384\n",
      "Lifestyle :  16485.764705882353\n",
      "Utilities :  18684.456790123455\n",
      "Weather :  52279.892857142855\n",
      "Education :  7003.983050847458\n"
     ]
    }
   ],
   "source": [
    "genres_table = freq_table(ios_final, 11)\n",
    "\n",
    "for genre in genres_table:\n",
    "    total = 0\n",
    "    len_genre = 0\n",
    "    \n",
    "    for app in ios_final:\n",
    "        app_genre = app[11]\n",
    "        if app_genre == genre:\n",
    "            ratings = float(app[5])\n",
    "            total += ratings\n",
    "            len_genre += 1\n",
    "        \n",
    "    avg_rating = total / len_genre\n",
    "    \n",
    "    print(genre, ': ', avg_rating)"
   ]
  },
  {
   "cell_type": "markdown",
   "metadata": {},
   "source": [
    "On average, navigation apps have the highest reviews, but this is largely influenced by Google Maps and Waze, which combined have nearly half a million reviews:"
   ]
  },
  {
   "cell_type": "code",
   "execution_count": 57,
   "metadata": {},
   "outputs": [
    {
     "name": "stdout",
     "output_type": "stream",
     "text": [
      "Waze - GPS Navigation, Maps & Real-time Traffic :  345046\n",
      "Google Maps - Navigation & Transit :  154911\n",
      "Geocaching® :  12811\n",
      "CoPilot GPS – Car Navigation & Offline Maps :  3582\n",
      "ImmobilienScout24: Real Estate Search in Germany :  187\n",
      "Railway Route Search :  5\n"
     ]
    }
   ],
   "source": [
    "for app in ios_final:\n",
    "    if app[11] == \"Navigation\":\n",
    "        print(app[1], ': ', app[5])"
   ]
  },
  {
   "cell_type": "markdown",
   "metadata": {},
   "source": [
    "This also applies to the Social Networking genre, where giants such as Facebook, Instagram and Twitter contribute to the majority of the reviews. Again with music apps, where Spotify and Shazam heavily influence the numbers.\n",
    "\n",
    "We could omit these large players from the data set to get a more realistic idea of app popularity by genre, but this report will not go into that depth.\n",
    "\n",
    "An ideal approach to an app based on this data would be something that is fun and engaging, but also incorporates something useful. For example we could create a music app that lets you read about a song, look up any words you don't understand and share this data with your friends on social networks, almost like a dictionary for music. (For example, the [Genius](https://genius.com/) music service fits this description).\n",
    "\n",
    "Lastly, let's take a look at the Play Store data:\n",
    "\n",
    "## Most Popular Apps by Genre - Play Store (Android)\n",
    "\n",
    "Luckily with the Play Store data, we actually have the number of installs per app in our data set.\n",
    "However there is one caveat, the number of installs is grouped into intervals, which leaves them open-ended and open for interpretation.\n",
    "\n",
    "We will have to leave the numbers as they are, e.g. treating 100,000+ as 100,000 installs.\n",
    "\n",
    "To perform calculations on this data, we will need to remove the '+' signs so the compiler can deal with the number."
   ]
  },
  {
   "cell_type": "code",
   "execution_count": 60,
   "metadata": {},
   "outputs": [
    {
     "name": "stdout",
     "output_type": "stream",
     "text": [
      "ENTERTAINMENT :  11640705.88235294\n",
      "HOUSE_AND_HOME :  1331540.5616438356\n",
      "LIFESTYLE :  1437816.2687861272\n",
      "HEALTH_AND_FITNESS :  4188821.9853479853\n",
      "GAME :  15588015.603248259\n",
      "EDUCATION :  1833495.145631068\n",
      "PARENTING :  542603.6206896552\n",
      "DATING :  854028.8303030303\n",
      "SHOPPING :  7036877.311557789\n",
      "COMICS :  817657.2727272727\n",
      "MEDICAL :  120550.61980830671\n",
      "COMMUNICATION :  38456119.167247385\n",
      "MAPS_AND_NAVIGATION :  4056941.7741935486\n",
      "AUTO_AND_VEHICLES :  647317.8170731707\n",
      "VIDEO_PLAYERS :  24727872.452830188\n",
      "LIBRARIES_AND_DEMO :  638503.734939759\n",
      "PRODUCTIVITY :  16787331.344927534\n",
      "NEWS_AND_MAGAZINES :  9549178.467741935\n",
      "FOOD_AND_DRINK :  1924897.7363636363\n",
      "ART_AND_DESIGN :  1986335.0877192982\n",
      "BEAUTY :  513151.88679245283\n",
      "BUSINESS :  1712290.1474201474\n",
      "EVENTS :  253542.22222222222\n",
      "FAMILY :  3695641.8198090694\n",
      "SPORTS :  3638640.1428571427\n",
      "TOOLS :  10801391.298666667\n",
      "FINANCE :  1387692.475609756\n",
      "SOCIAL :  23253652.127118643\n",
      "BOOKS_AND_REFERENCE :  8767811.894736841\n",
      "WEATHER :  5074486.197183099\n",
      "PHOTOGRAPHY :  17840110.40229885\n",
      "PERSONALIZATION :  5201482.6122448975\n",
      "TRAVEL_AND_LOCAL :  13984077.710144928\n"
     ]
    }
   ],
   "source": [
    "category_table = freq_table(play_store_final, 1)\n",
    "\n",
    "for category in category_table:\n",
    "    total = 0\n",
    "    len_category = 0\n",
    "    \n",
    "    for app in play_store_final:\n",
    "        if app[1] == category:\n",
    "            installs = app[5]\n",
    "            installs = installs.replace(',', '')\n",
    "            installs = installs.replace('+', '')\n",
    "            total += float(installs)\n",
    "            len_category += 1\n",
    "            \n",
    "    avg_installs = total / len_category\n",
    "    print(category, ': ', avg_installs)"
   ]
  },
  {
   "cell_type": "markdown",
   "metadata": {},
   "source": [
    "From this analysis, communication apps have on average, the most amount of installs.\n",
    "However, this is influenced heavily by large apps such as WhatsApp, Skype, Facebook Messenger and more.\n",
    "Let's take a quick look at apps with over 100m, 500m or 1bn installs:"
   ]
  },
  {
   "cell_type": "code",
   "execution_count": 62,
   "metadata": {},
   "outputs": [
    {
     "name": "stdout",
     "output_type": "stream",
     "text": [
      "WhatsApp Messenger :  1,000,000,000+\n",
      "imo beta free calls and text :  100,000,000+\n",
      "Android Messages :  100,000,000+\n",
      "Google Duo - High Quality Video Calls :  500,000,000+\n",
      "Messenger – Text and Video Chat for Free :  1,000,000,000+\n",
      "imo free video calls and chat :  500,000,000+\n",
      "Skype - free IM & video calls :  1,000,000,000+\n",
      "Who :  100,000,000+\n",
      "GO SMS Pro - Messenger, Free Themes, Emoji :  100,000,000+\n",
      "LINE: Free Calls & Messages :  500,000,000+\n",
      "Google Chrome: Fast & Secure :  1,000,000,000+\n",
      "Firefox Browser fast & private :  100,000,000+\n",
      "UC Browser - Fast Download Private & Secure :  500,000,000+\n",
      "Gmail :  1,000,000,000+\n",
      "Hangouts :  1,000,000,000+\n",
      "Messenger Lite: Free Calls & Messages :  100,000,000+\n",
      "Kik :  100,000,000+\n",
      "KakaoTalk: Free Calls & Text :  100,000,000+\n",
      "Opera Mini - fast web browser :  100,000,000+\n",
      "Opera Browser: Fast and Secure :  100,000,000+\n",
      "Telegram :  100,000,000+\n",
      "Truecaller: Caller ID, SMS spam blocking & Dialer :  100,000,000+\n",
      "UC Browser Mini -Tiny Fast Private & Secure :  100,000,000+\n",
      "Viber Messenger :  500,000,000+\n",
      "WeChat :  100,000,000+\n",
      "Yahoo Mail – Stay Organized :  100,000,000+\n",
      "BBM - Free Calls & Messages :  100,000,000+\n"
     ]
    }
   ],
   "source": [
    "for app in play_store_final:\n",
    "    if app[1] == \"COMMUNICATION\" and (app[5] == \"1,000,000,000+\"\n",
    "                                      or app[5] == \"500,000,000+\"\n",
    "                                      or app[5] == '100,000,000+'):\n",
    "        print(app[0], ': ', app[5])"
   ]
  },
  {
   "cell_type": "markdown",
   "metadata": {},
   "source": [
    "The main concern with these results when applying it to a context of app development, is that these giants will be extremely difficult to compete with and therefore this category shouldn't be heavily relied on at a decision-making stage.\n",
    "\n",
    "## Conclusion\n",
    "\n",
    "Throughout this project we analysed the data sets for the App Store and Play Store, to try and understand which genre of app would be best to create a profitable app.\n",
    "\n",
    "The data concludes that a book type app, with elements of social and practical tools would be a good fit for the market, for example an app that lets readers digest pages or chapters and share their analysis with friends."
   ]
  }
 ],
 "metadata": {
  "kernelspec": {
   "display_name": "Python 3",
   "language": "python",
   "name": "python3"
  },
  "language_info": {
   "codemirror_mode": {
    "name": "ipython",
    "version": 3
   },
   "file_extension": ".py",
   "mimetype": "text/x-python",
   "name": "python",
   "nbconvert_exporter": "python",
   "pygments_lexer": "ipython3",
   "version": "3.7.1"
  }
 },
 "nbformat": 4,
 "nbformat_minor": 2
}
